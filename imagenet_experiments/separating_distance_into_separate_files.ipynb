{
 "cells": [
  {
   "cell_type": "code",
   "execution_count": null,
   "metadata": {
    "colab": {
     "base_uri": "https://localhost:8080/"
    },
    "id": "mRHgUjLPML9U",
    "outputId": "f16dc210-34a2-4cf3-f866-274fdc376dd1"
   },
   "outputs": [],
   "source": [
    "from google.colab import drive\n",
    "drive.mount('/content/drive')"
   ]
  },
  {
   "cell_type": "code",
   "execution_count": null,
   "metadata": {
    "colab": {
     "base_uri": "https://localhost:8080/"
    },
    "id": "YJ-LyXDDMS-a",
    "outputId": "8be5b956-4e51-4cf8-d35d-4610532331bc"
   },
   "outputs": [],
   "source": [
    "import sys\n",
    "import os\n",
    "from itertools import product\n",
    "import math\n",
    "import numpy as np\n",
    "import torch\n",
    "import torch.nn as nn\n",
    "import torchvision\n",
    "import torchvision.transforms as transforms\n",
    "import time\n",
    "\n",
    "sys.path.append(os.path.abspath(\"..\"))\n",
    "\n",
    "def symmetrize(A):\n",
    "    n = A.shape[0]\n",
    "    B = A.copy()\n",
    "    B[np.tril_indices(n)] = B.T[np.tril_indices(n)]\n",
    "    return B\n",
    "\n",
    "all_classes = {}\n",
    "\n",
    "all_classes[\"resnet\"] = ['regnet_x_16gf', 'regnet_x_1_6gf', 'regnet_x_32gf', 'regnet_x_3_2gf', 'regnet_x_400mf',\n",
    "            'regnet_x_800mf', 'regnet_x_8gf', 'regnet_y_16gf', 'regnet_y_1_6gf', 'regnet_y_32gf',\n",
    "            'regnet_y_3_2gf', 'regnet_y_400mf', 'regnet_y_800mf', 'regnet_y_8gf', 'resnet18',\n",
    "            'resnext50_32x4d', 'wide_resnet50_2'] # convolutional residual networks (skip connections) # 17\n",
    "\n",
    "all_classes[\"efficientnet\"] = ['efficientnet_b0', 'efficientnet_b1', 'efficientnet_b2', 'efficientnet_b3', 'efficientnet_b4',\n",
    "            'efficientnet_b5', 'efficientnet_b6', 'efficientnet_b7'] # convolutional # 8\n",
    "\n",
    "all_classes[\"alexnet\"] = [\"alexnet\"] # convolutional # 1\n",
    "\n",
    "all_classes[\"googlenet\"] = [\"googlenet\"] # convolutional # 1\n",
    "\n",
    "all_classes[\"inception\"] = [\"inception\"] # convolutional # 1\n",
    "\n",
    "all_classes[\"mnasnet\"] = [\"mnasnet\"] # convolutional # 1\n",
    "\n",
    "all_classes[\"vgg16\"] = [\"vgg16\"] # convolutional # 1\n",
    "\n",
    "all_classes[\"mobilenet\"] = ['mobilenet_v2', 'mobilenet_v3_large', 'mobilenet_v3_small'] # convolutional # 3\n",
    "\n",
    "all_classes[\"convnext\"] = ['convnext_small', 'convnext_tiny'] # depthwise convolutional that were designed to compete with transformers # 2\n",
    "\n",
    "# Total 35 models\n",
    "\n",
    "classes = {}\n",
    "for c in all_classes:\n",
    "    if len(all_classes[c]) > 1:\n",
    "        classes[c] = all_classes[c]\n",
    "num_classes = len(classes)\n",
    "class_names = np.array(list(classes.keys()))\n",
    "\n",
    "models_pretrained_folder = \"/content/drive/MyDrive/UKP/imagenet_experiments/models/\"\n",
    "\n",
    "pretrained_model_names = ['regnet_x_16gf', 'regnet_x_1_6gf', 'regnet_x_32gf', 'regnet_x_3_2gf', 'regnet_x_400mf',\n",
    "            'regnet_x_800mf', 'regnet_x_8gf', 'regnet_y_16gf', 'regnet_y_1_6gf', 'regnet_y_32gf',\n",
    "            'regnet_y_3_2gf', 'regnet_y_400mf', 'regnet_y_800mf', 'regnet_y_8gf', 'resnet18',\n",
    "            'resnext50_32x4d', 'wide_resnet50_2','efficientnet_b0', 'efficientnet_b1', 'efficientnet_b2', 'efficientnet_b3', 'efficientnet_b4',\n",
    "            'efficientnet_b5', 'efficientnet_b6', 'efficientnet_b7','alexnet','googlenet','inception','mnasnet','vgg16','mobilenet_v2', 'mobilenet_v3_large', 'mobilenet_v3_small',\n",
    "               'convnext_small', 'convnext_tiny']\n",
    "\n",
    "\n",
    "num_pretrained_models = len(pretrained_model_names)\n",
    "\n",
    "# loading test distance file and seeing its entries\n",
    "datafilepath = \"/content/drive/MyDrive/UKP/imagenet_experiments/distances_torch/val/pretrained/alexnet_pretrained_rep_convnext_small_pretrained_rep.npz\"\n",
    "data = np.load(f\"{datafilepath}\")\n",
    "print(data.files)\n",
    "\n",
    "distnames = data.files\n",
    "\n",
    "####################################################################################################################3\n",
    "\n",
    "# 0.1. Show distance matrices for different distance functions\n",
    "subset = \"val\"\n",
    "distances_pretrained_folder = \"/content/drive/MyDrive/UKP-experiments/imagenet_experiments/distances_torch/val/pretrained\"\n",
    "stats = np.load(f\"{distances_pretrained_folder}/stats.npz\")\n",
    "\n",
    "# Code to extract each different distance into its own array\n",
    "dist_array = {distname: [] for distname in distnames}\n",
    "distfilenames = np.sort(os.listdir(distances_pretrained_folder))\n",
    "\n",
    "total_distfilenames = len(distfilenames)\n",
    "print(f\"Total number of distance files: {total_distfilenames}\")\n"
   ]
  },
  {
   "cell_type": "code",
   "execution_count": null,
   "metadata": {
    "colab": {
     "base_uri": "https://localhost:8080/"
    },
    "id": "EKTJ0PI8NlGX",
    "outputId": "a5d16f44-d380-46ce-a4a7-8919a9b1a3f9"
   },
   "outputs": [],
   "source": [
    "for i in range(len(pretrained_model_names)):\n",
    "  first_model_name = pretrained_model_names[i]\n",
    "  for j in range(i+1,len(pretrained_model_names)):\n",
    "    second_model_name = pretrained_model_names[j]\n",
    "    check_string1 = f\"{first_model_name}_pretrained_rep_{second_model_name}_pretrained_rep.npz\"\n",
    "    check_string2 = f\"{second_model_name}_pretrained_rep_{first_model_name}_pretrained_rep.npz\"\n",
    "    print(f\"Checking File ({i} {first_model_name},{j} {second_model_name})\")\n",
    "\n",
    "    for filename in distfilenames:\n",
    "      if filename == check_string1 or filename == check_string2:\n",
    "        file_path = os.path.join(distances_pretrained_folder, filename)\n",
    "        data = np.load(file_path)\n",
    "\n",
    "        for distname in distnames:\n",
    "            if distname in data:\n",
    "                dist_array[distname].append(data[distname])\n"
   ]
  },
  {
   "cell_type": "code",
   "execution_count": null,
   "metadata": {
    "colab": {
     "base_uri": "https://localhost:8080/"
    },
    "id": "Z5imRFCCXIDT",
    "outputId": "d5c8d808-f31e-4f5b-b40e-0080146180a9"
   },
   "outputs": [],
   "source": [
    "for distname in distnames:\n",
    "  if \"GULP\" not in distname and \"UKP\" not in distname:\n",
    "    dist_array[distname] = np.array(dist_array[distname])\n",
    "  else:\n",
    "    dist_array[distname] = np.sqrt(np.array(dist_array[distname]))\n",
    "    print(f\"distname = {distname}, length = {len(dist_array[distname])}\")"
   ]
  },
  {
   "cell_type": "code",
   "execution_count": null,
   "metadata": {
    "id": "SBUmZ7wyeFKz"
   },
   "outputs": [],
   "source": [
    "np.savez(f\"/content/drive/MyDrive/UKP-experiments/imagenet_experiments/distances_torch/val/pretrained_categorized/all_distances_categorized_correctedfinal.npz\", **dist_array)"
   ]
  }
 ],
 "metadata": {
  "colab": {
   "provenance": []
  },
  "kernelspec": {
   "display_name": "Python 3 (ipykernel)",
   "language": "python",
   "name": "python3"
  },
  "language_info": {
   "codemirror_mode": {
    "name": "ipython",
    "version": 3
   },
   "file_extension": ".py",
   "mimetype": "text/x-python",
   "name": "python",
   "nbconvert_exporter": "python",
   "pygments_lexer": "ipython3",
   "version": "3.10.12"
  }
 },
 "nbformat": 4,
 "nbformat_minor": 4
}
