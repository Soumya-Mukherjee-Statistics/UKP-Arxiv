{
 "cells": [
  {
   "cell_type": "code",
   "execution_count": null,
   "metadata": {
    "colab": {
     "base_uri": "https://localhost:8080/"
    },
    "id": "cI-g4WU_K--7",
    "outputId": "0b576b42-d1f3-4910-912c-b0ee9e3c82d7"
   },
   "outputs": [],
   "source": [
    "from google.colab import drive\n",
    "drive.mount('/content/drive')"
   ]
  },
  {
   "cell_type": "code",
   "execution_count": null,
   "metadata": {
    "colab": {
     "base_uri": "https://localhost:8080/"
    },
    "id": "blkS2DFtijMX",
    "outputId": "678c4d84-cc31-4e66-b978-e9e31ce278a8"
   },
   "outputs": [],
   "source": [
    "import torch\n",
    "device = torch.device(\"cuda\" if torch.cuda.is_available() else \"cpu\")\n",
    "print(f\"Using device: {device}\")"
   ]
  },
  {
   "cell_type": "code",
   "execution_count": null,
   "metadata": {
    "id": "GXgdQs36KpkK"
   },
   "outputs": [],
   "source": [
    "import sys\n",
    "import os\n",
    "import math\n",
    "import numpy as np\n",
    "import torch\n",
    "import torch.nn as nn\n",
    "import torchvision\n",
    "import torchvision.transforms as transforms\n",
    "\n",
    "\n",
    "# Fully connected neural network with one hidden layer\n",
    "def NeuralNet(input_size, hidden_sizes, num_classes):\n",
    "    layers = []\n",
    "    num_hidden = len(hidden_sizes)\n",
    "\n",
    "    if num_hidden == 0:\n",
    "        layers.append(nn.Linear(input_size, num_classes))\n",
    "    else:\n",
    "        # append initial layer\n",
    "        layers.append(nn.Linear(input_size, hidden_sizes[0]))\n",
    "\n",
    "        # append intermediate hidden layers\n",
    "        for i in range(num_hidden-1):\n",
    "            layers.append(nn.ReLU())\n",
    "            layers.append(nn.Linear(hidden_sizes[i], hidden_sizes[i+1]) )\n",
    "\n",
    "        # append final layer\n",
    "        layers.append(nn.ReLU())\n",
    "        layers.append(nn.Linear(hidden_sizes[num_hidden-1], num_classes))\n",
    "\n",
    "    return nn.Sequential(*layers)\n",
    "\n",
    "# Function to initialize weights\n",
    "def init_weights(m):\n",
    "    if isinstance(m, nn.Linear):\n",
    "        torch.nn.init.kaiming_uniform_(m.weight)\n",
    "        m.bias.data.fill_(0)\n",
    "\n",
    "input_size = 784 # 28x28\n",
    "num_classes = 10\n",
    "batch_size = 100"
   ]
  },
  {
   "cell_type": "code",
   "execution_count": null,
   "metadata": {
    "id": "qsKaUqiCLRG7"
   },
   "outputs": [],
   "source": [
    "# Import MNIST dataset\n",
    "train_dataset = torchvision.datasets.MNIST(root='/content/drive/MyDrive/UKP/mnist_experiments/datasets/',\n",
    "                                        train=True,\n",
    "                                        transform=transforms.ToTensor())\n",
    "test_dataset = torchvision.datasets.MNIST(root='/content/drive/MyDrive/UKP/mnist_experiments/datasets/',\n",
    "                                        train=False,\n",
    "                                        transform=transforms.ToTensor())\n"
   ]
  },
  {
   "cell_type": "code",
   "execution_count": null,
   "metadata": {
    "id": "OlWf6UDhLyFc"
   },
   "outputs": [],
   "source": [
    "# Data loader\n",
    "train_loader = torch.utils.data.DataLoader(dataset=train_dataset,\n",
    "                                        batch_size=batch_size,\n",
    "                                        shuffle=True)\n",
    "test_loader = torch.utils.data.DataLoader(dataset=test_dataset,\n",
    "                                       batch_size=batch_size,\n",
    "                                       shuffle=False)"
   ]
  },
  {
   "cell_type": "code",
   "execution_count": null,
   "metadata": {
    "colab": {
     "base_uri": "https://localhost:8080/"
    },
    "id": "kId8c7_wMHB2",
    "outputId": "a263f07f-b74c-4238-f9b8-137a48948eea"
   },
   "outputs": [],
   "source": [
    "# Generate matrix of all train data images\n",
    "full_train_data = []\n",
    "for i in range(len(train_dataset)):\n",
    "    full_train_data.append(train_dataset[i][0].reshape(-1, 28*28))\n",
    "full_train_data = torch.vstack(full_train_data)\n",
    "\n",
    "# List network model architectures (e.g. hidden layer sizes)\n",
    "architectures = {}\n",
    "\n",
    "widths = 100*np.arange(1, 11)\n",
    "depths = np.array([2, 3, 4, 6, 7, 8, 9])\n",
    "seeds = np.arange(1, 5)\n",
    "for width in widths:\n",
    "    for depth in depths:\n",
    "        for seed in seeds:\n",
    "            architectures[f'width{width}_depth{depth}_seed{seed}'] = depth*[width]\n",
    "\n",
    "# Check if any networks in the list have already been trained\n",
    "exists = [name for name in architectures if os.path.exists(f'/content/drive/MyDrive/UKP/mnist_experiments/models/widthdepth/{name}.pth')]\n",
    "for name in exists:\n",
    "    architectures.pop(name)\n",
    "\n",
    "# Train remaining architectures in batches\n",
    "\n",
    "architecture_names = np.sort(list(architectures.keys()))\n",
    "batch_names = architecture_names\n",
    "print(f'Number of Models: {len(batch_names)}\\n', flush=True)"
   ]
  },
  {
   "cell_type": "code",
   "execution_count": null,
   "metadata": {
    "colab": {
     "base_uri": "https://localhost:8080/"
    },
    "id": "4dKdGK0wNNgu",
    "outputId": "196d385a-5b7e-453e-ffc4-5883c33d18e3"
   },
   "outputs": [],
   "source": [
    "for name in batch_names:\n",
    "    print(f'ARCHITECTURE {name}', flush=True)\n",
    "\n",
    "    hidden_sizes = architectures[name]\n",
    "\n",
    "    # Initialize network\n",
    "    model = NeuralNet(input_size, hidden_sizes, num_classes).to(device)\n",
    "    model.apply(init_weights)\n",
    "\n",
    "    # Loss and optimizer\n",
    "    criterion = nn.CrossEntropyLoss()\n",
    "\n",
    "    learning_rate = 1e-4\n",
    "    optimizer = torch.optim.Adam(model.parameters(), lr=learning_rate, amsgrad=False)\n",
    "\n",
    "    # Train network\n",
    "    num_epochs = 50\n",
    "    n_total_steps = len(train_loader)\n",
    "    for epoch in range(num_epochs):\n",
    "        for i, (images, labels) in enumerate(train_loader):\n",
    "            # origin shape: [100, 1, 28, 28]\n",
    "            # resized: [100, 784]\n",
    "            images = images.reshape(-1, 28*28).to(device)\n",
    "            labels = labels.to(device)\n",
    "\n",
    "            # Forward pass\n",
    "            outputs = model(images)\n",
    "            loss = criterion(outputs, labels)\n",
    "\n",
    "            # Backward and optimize\n",
    "            optimizer.zero_grad()\n",
    "            loss.backward()\n",
    "            optimizer.step()\n",
    "\n",
    "            if (i+1) % 100 == 0:\n",
    "                print(f'Epoch [{epoch+1}/{num_epochs}], Step[{i+1}/{n_total_steps}], Loss: {loss.item():.4f}', flush=True)\n",
    "\n",
    "    # Test network\n",
    "    with torch.no_grad():\n",
    "        n_correct = 0\n",
    "        n_samples = 0\n",
    "        for images, labels in test_loader:\n",
    "            images = images.reshape(-1, 28*28).to(device)\n",
    "            labels = labels.to(device)\n",
    "            outputs = model(images)\n",
    "            _, predicted = torch.max(outputs.data, 1)\n",
    "            n_samples += labels.size(0)\n",
    "            n_correct += (predicted == labels).sum().item()\n",
    "\n",
    "    acc = 100.0 * n_correct / n_samples\n",
    "    print(f'Accuracy of the network on the 10000 test images: {acc}%\\n', flush=True)\n",
    "\n",
    "    # Save model weights and output representation\n",
    "    torch.save(model, f'/content/drive/MyDrive/UKP/mnist_experiments/models/widthdepth/{name}.pth')"
   ]
  }
 ],
 "metadata": {
  "accelerator": "GPU",
  "colab": {
   "gpuType": "A100",
   "machine_shape": "hm",
   "provenance": []
  },
  "kernelspec": {
   "display_name": "Python 3 (ipykernel)",
   "language": "python",
   "name": "python3"
  },
  "language_info": {
   "codemirror_mode": {
    "name": "ipython",
    "version": 3
   },
   "file_extension": ".py",
   "mimetype": "text/x-python",
   "name": "python",
   "nbconvert_exporter": "python",
   "pygments_lexer": "ipython3",
   "version": "3.10.12"
  }
 },
 "nbformat": 4,
 "nbformat_minor": 4
}
