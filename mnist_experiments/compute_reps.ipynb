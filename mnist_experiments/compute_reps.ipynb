{
 "cells": [
  {
   "cell_type": "code",
   "execution_count": null,
   "metadata": {
    "colab": {
     "base_uri": "https://localhost:8080/"
    },
    "id": "Pt-Pp6iNu_0m",
    "outputId": "04ffc6e9-bf67-4ce5-e238-64eec42bfbd5"
   },
   "outputs": [],
   "source": [
    "from google.colab import drive\n",
    "drive.mount('/content/drive')"
   ]
  },
  {
   "cell_type": "code",
   "execution_count": null,
   "metadata": {
    "colab": {
     "base_uri": "https://localhost:8080/"
    },
    "id": "FL0ZKC3ZvUTs",
    "outputId": "c64a7f7e-8a73-4c68-d886-5cd01354eedb"
   },
   "outputs": [],
   "source": [
    "import sys\n",
    "import os\n",
    "import math\n",
    "import random\n",
    "from itertools import product\n",
    "import numpy as np\n",
    "import torch\n",
    "import torchvision\n",
    "import torchvision.transforms as transforms\n",
    "\n",
    "# Import MNIST dataset\n",
    "train_dataset = torchvision.datasets.MNIST(root='/content/drive/MyDrive/UKP/mnist_experiments/datasets/',\n",
    "                                           download=True,\n",
    "                                        train=True,\n",
    "                                        transform=transforms.ToTensor())\n",
    "\n",
    "test_dataset = torchvision.datasets.MNIST(root='/content/drive/MyDrive/UKP/mnist_experiments/datasets/',\n",
    "                                           download=True,\n",
    "                                        transform=transforms.ToTensor())\n",
    "\n"
   ]
  },
  {
   "cell_type": "code",
   "execution_count": null,
   "metadata": {
    "id": "bIVNLQrDAu2n"
   },
   "outputs": [],
   "source": [
    "device = torch.device(\"cuda:0\" if torch.cuda.is_available() else \"cpu\")"
   ]
  },
  {
   "cell_type": "code",
   "execution_count": null,
   "metadata": {
    "colab": {
     "base_uri": "https://localhost:8080/"
    },
    "id": "BKyWtaxnBXVN",
    "outputId": "b85bf2be-be0a-49c6-bab2-9118ab8081b5"
   },
   "outputs": [],
   "source": [
    "device"
   ]
  },
  {
   "cell_type": "code",
   "execution_count": null,
   "metadata": {
    "id": "RYEsge6yyLf7"
   },
   "outputs": [],
   "source": [
    "# Generate matrix of all train data images\n",
    "train_data = []\n",
    "train_data_n = 20000\n",
    "for i in range(train_data_n):\n",
    "    train_data.append(train_dataset[i][0].reshape(-1, 28*28))\n",
    "train_data = torch.vstack(train_data).to(device)\n",
    "\n",
    "num_data = len(train_dataset)"
   ]
  },
  {
   "cell_type": "code",
   "execution_count": null,
   "metadata": {
    "colab": {
     "base_uri": "https://localhost:8080/"
    },
    "id": "P-gCWpWDzHjm",
    "outputId": "19e7481b-6098-4744-a6a4-0978535df3d5"
   },
   "outputs": [],
   "source": [
    "width_subset = 100*np.arange(1, 11)\n",
    "depth_subset = np.arange(1, 11)\n",
    "\n",
    "# number of samples in each representation\n",
    "n = 20000\n",
    "\n",
    "subset = \"train\"\n",
    "mode = \"eval\"\n",
    "\n",
    "reps_folder = f\"/content/drive/MyDrive/UKP-experiments/mnist_experiments/reps/{subset}/{n}_{mode}\"\n",
    "if not os.path.exists(reps_folder):\n",
    "    os.makedirs(reps_folder)\n",
    "\n",
    "model_names = []\n",
    "modeldir = \"/content/drive/MyDrive/UKP/mnist_experiments/models/widthdepth/\"\n",
    "filenames = np.sort(os.listdir(modeldir))\n",
    "\n",
    "reps_saved = np.zeros(len(filenames), dtype=bool)\n",
    "if os.path.exists(f\"{reps_folder}/reps_saved.npy\"):\n",
    "    reps_saved = np.load(f\"{reps_folder}/reps_saved.npy\")\n",
    "    print(f\"{np.sum(reps_saved)} existing reps\", flush=True)\n",
    "\n",
    "i = 0\n",
    "for filename in filenames:\n",
    "    name = filename.split(\".\")[0]\n",
    "    splits = name.split('_')\n",
    "    width = int(splits[0][5:])\n",
    "    depth = int(splits[1][5:])\n",
    "    if width in width_subset and depth in depth_subset and not reps_saved[i]:\n",
    "        model_names.append(name)\n",
    "    i = i + 1\n",
    "model_names = np.sort(model_names)\n",
    "total_models = len(model_names)\n",
    "\n"
   ]
  },
  {
   "cell_type": "code",
   "execution_count": null,
   "metadata": {
    "colab": {
     "base_uri": "https://localhost:8080/"
    },
    "id": "qTql5TcH6rHa",
    "outputId": "c0308fa2-ed15-4ea9-e5f2-981c1a60ba25"
   },
   "outputs": [],
   "source": [
    "i=0\n",
    "for model_name in model_names:\n",
    "    print(f\"Computing representation for {model_name} based on {subset} data\", flush=True)\n",
    "\n",
    "    model_path = f'{modeldir}{model_name}.pth'\n",
    "    model = torch.load(model_path).to(device)\n",
    "    model_lastlayer = model[0:-1]\n",
    "    rep = model_lastlayer(train_data).detach().cpu().numpy().T\n",
    "\n",
    "    np.save(f\"{reps_folder}/{model_name}_rep.npy\", rep)\n",
    "\n",
    "    del model\n",
    "    del model_lastlayer\n",
    "    del rep\n",
    "    torch.cuda.empty_cache()\n",
    "\n",
    "    reps_saved[i] = True\n",
    "    np.save(f\"{reps_folder}/reps_saved.npy\", reps_saved)\n",
    "    i = i + 1"
   ]
  },
  {
   "cell_type": "code",
   "execution_count": null,
   "metadata": {
    "id": "oH5XLOpE0Mba"
   },
   "outputs": [],
   "source": [
    "# Generate matrix of all test data images\n",
    "test_data = []\n",
    "test_data_n = 10000\n",
    "for i in range(test_data_n):\n",
    "    test_data.append(test_dataset[i][0].reshape(-1, 28*28))\n",
    "test_data = torch.vstack(test_data).to(device)"
   ]
  },
  {
   "cell_type": "code",
   "execution_count": null,
   "metadata": {
    "id": "EPylAnvn7GwV"
   },
   "outputs": [],
   "source": [
    "# number of samples in each representation\n",
    "n = test_data_n\n",
    "\n",
    "subset = \"test\"\n",
    "mode = \"eval\"\n",
    "\n",
    "reps_folder = f\"/content/drive/MyDrive/UKP/mnist_experiments/reps/{subset}/{n}_{mode}\"\n",
    "if not os.path.exists(reps_folder):\n",
    "    os.makedirs(reps_folder)"
   ]
  },
  {
   "cell_type": "code",
   "execution_count": null,
   "metadata": {
    "id": "nDqME9vZCY1_"
   },
   "outputs": [],
   "source": [
    "width_subset = 100*np.arange(1, 11)\n",
    "depth_subset = np.arange(1, 11)\n",
    "\n",
    "model_names = []\n",
    "modeldir = \"/content/drive/MyDrive/UKP/mnist_experiments/models/widthdepth/\"\n",
    "filenames = np.sort(os.listdir(modeldir))\n",
    "\n",
    "reps_saved = np.zeros(len(filenames), dtype=bool)\n",
    "if os.path.exists(f\"{reps_folder}/reps_saved.npy\"):\n",
    "    reps_saved = np.load(f\"{reps_folder}/reps_saved.npy\")\n",
    "    print(f\"{np.sum(reps_saved)} existing reps\", flush=True)\n",
    "\n",
    "i = 0\n",
    "for filename in filenames:\n",
    "    name = filename.split(\".\")[0]\n",
    "    splits = name.split('_')\n",
    "    width = int(splits[0][5:])\n",
    "    depth = int(splits[1][5:])\n",
    "    if width in width_subset and depth in depth_subset and not reps_saved[i]:\n",
    "        model_names.append(name)\n",
    "    i = i + 1\n",
    "model_names = np.sort(model_names)\n",
    "total_models = len(model_names)\n"
   ]
  },
  {
   "cell_type": "code",
   "execution_count": null,
   "metadata": {
    "colab": {
     "base_uri": "https://localhost:8080/"
    },
    "id": "AYrAhRf7CrER",
    "outputId": "ee2f2f5c-13eb-4626-fe14-01f208a698e7"
   },
   "outputs": [],
   "source": [
    "i=0\n",
    "for model_name in model_names:\n",
    "    print(f\"Computing representation for {model_name} based on {subset} data\", flush=True)\n",
    "\n",
    "    model_path = f'{modeldir}{model_name}.pth'\n",
    "    model = torch.load(model_path).to(device)\n",
    "    model_lastlayer = model[0:-1]\n",
    "    rep = model_lastlayer(test_data).detach().cpu().numpy().T\n",
    "\n",
    "    np.save(f\"{reps_folder}/{model_name}_rep.npy\", rep)\n",
    "\n",
    "    del model\n",
    "    del model_lastlayer\n",
    "    del rep\n",
    "    torch.cuda.empty_cache()\n",
    "\n",
    "    reps_saved[i] = True\n",
    "    np.save(f\"{reps_folder}/reps_saved.npy\", reps_saved)\n",
    "    i = i + 1"
   ]
  }
 ],
 "metadata": {
  "accelerator": "GPU",
  "colab": {
   "gpuType": "A100",
   "machine_shape": "hm",
   "provenance": []
  },
  "kernelspec": {
   "display_name": "Python 3 (ipykernel)",
   "language": "python",
   "name": "python3"
  },
  "language_info": {
   "codemirror_mode": {
    "name": "ipython",
    "version": 3
   },
   "file_extension": ".py",
   "mimetype": "text/x-python",
   "name": "python",
   "nbconvert_exporter": "python",
   "pygments_lexer": "ipython3",
   "version": "3.10.12"
  }
 },
 "nbformat": 4,
 "nbformat_minor": 4
}
