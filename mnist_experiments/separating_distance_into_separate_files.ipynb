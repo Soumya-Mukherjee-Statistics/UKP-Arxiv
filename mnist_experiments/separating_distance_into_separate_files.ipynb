{
 "cells": [
  {
   "cell_type": "code",
   "execution_count": null,
   "metadata": {
    "colab": {
     "base_uri": "https://localhost:8080/"
    },
    "id": "xkPYDNQ4XK6x",
    "outputId": "cbb74f53-b09b-4891-97f4-0eeed8d74047"
   },
   "outputs": [],
   "source": [
    "from google.colab import drive\n",
    "drive.mount('/content/drive')"
   ]
  },
  {
   "cell_type": "code",
   "execution_count": null,
   "metadata": {
    "colab": {
     "base_uri": "https://localhost:8080/"
    },
    "id": "09vQeEbdXb2_",
    "outputId": "1ef35e9e-b164-4a17-8769-3eb6e725864a"
   },
   "outputs": [],
   "source": [
    "import sys\n",
    "import os\n",
    "from itertools import product\n",
    "import math\n",
    "import numpy as np\n",
    "import torch\n",
    "import torch.nn as nn\n",
    "import torchvision\n",
    "import torchvision.transforms as transforms\n",
    "import time\n",
    "\n",
    "sys.path.append(os.path.abspath(\"../\"))\n",
    "\n",
    "import scipy.stats\n",
    "\n",
    "folder = \"/content/drive/MyDrive/UKP/mnist_experiments/distances/widthdepth/5000_train/\"\n",
    "\n",
    "# loading test distance file and seeing its entries\n",
    "data = np.load(f\"{folder}/width100_depth2_seed2_rep_width100_depth4_seed2_rep.npz\")\n",
    "print(data.files)\n",
    "\n",
    "distnames = data.files\n",
    "\n",
    "reps = []\n",
    "reps_folder = f\"/content/drive/MyDrive/UKP/mnist_experiments/reps/train/5000_eval\"\n",
    "filenames = os.listdir(reps_folder)\n",
    "for filename in filenames:\n",
    "  if \"saved\" not in filename and \"seed2\" in filename and \"depth3\" not in filename and \"depth6\" not in filename and \"depth8\":\n",
    "    reps.append(filename[:-4])\n",
    "\n",
    "\n",
    "reps = np.sort(reps)\n",
    "\n",
    "model_names = reps\n",
    "num_models = len(model_names)"
   ]
  },
  {
   "cell_type": "code",
   "execution_count": null,
   "metadata": {
    "colab": {
     "base_uri": "https://localhost:8080/"
    },
    "id": "HYtQz3GvXsHR",
    "outputId": "12ad1271-d496-44cd-bf96-ee2332755586"
   },
   "outputs": [],
   "source": [
    "# Code to extract each different distance into its own array\n",
    "dist_array = {distname: [] for distname in distnames}\n",
    "# dist_array = {distname: np.array([]) for distname in distnames}\n",
    "distfilenames = np.sort(os.listdir(folder))\n",
    "\n",
    "total_distfilenames = len(distfilenames)\n",
    "print(f\"Total number of distance files: {total_distfilenames}\")"
   ]
  },
  {
   "cell_type": "code",
   "execution_count": null,
   "metadata": {
    "id": "LVQf8c4nmPVD"
   },
   "outputs": [],
   "source": [
    "def extract_widthdepth(modelname):\n",
    "  parts = modelname.split(\"_\")\n",
    "  x = []\n",
    "  for i in range(2):\n",
    "    x.append(int(''.join(filter(str.isdigit,parts[i]))))\n",
    "  return x[1], x[0]\n",
    "\n",
    "model_names = sorted(model_names, key=extract_widthdepth)\n"
   ]
  },
  {
   "cell_type": "code",
   "execution_count": null,
   "metadata": {
    "colab": {
     "base_uri": "https://localhost:8080/"
    },
    "id": "WttCExQRbP9z",
    "outputId": "2ad2c703-b03f-42d4-8fc1-7bafea5b816b"
   },
   "outputs": [],
   "source": [
    "for i in range(len(model_names)-1):\n",
    "  first_model_name = model_names[i]\n",
    "  for j in range(i+1,len(model_names)):\n",
    "    second_model_name = model_names[j]\n",
    "    check_string1 = f\"{first_model_name}_{second_model_name}.npz\"\n",
    "    check_string2 = f\"{second_model_name}_{first_model_name}.npz\"\n",
    "    print(f\"Checking File ({i} {first_model_name},{j} {second_model_name})\")\n",
    "\n",
    "    for filename in distfilenames:\n",
    "      if filename == check_string1 or filename == check_string2:\n",
    "        file_path = os.path.join(folder, filename)\n",
    "        data = np.load(file_path)\n",
    "\n",
    "        for distname in distnames:\n",
    "            if distname in data:\n",
    "                dist_array[distname].append(data[distname])\n",
    "                # dist_array[distname] = np.append(dist_array[distname],data[distname])"
   ]
  },
  {
   "cell_type": "code",
   "execution_count": null,
   "metadata": {
    "colab": {
     "base_uri": "https://localhost:8080/"
    },
    "id": "ayiv61DCbqZb",
    "outputId": "b5533722-92d4-4afc-abc0-bc45ce60b34c"
   },
   "outputs": [],
   "source": [
    "for distname in distnames:\n",
    "  if \"GULP\" not in distname and \"UKP\" not in distname:\n",
    "    dist_array[distname] = np.array(dist_array[distname])\n",
    "    # print(\"Nothing to do\")\n",
    "  else:\n",
    "    dist_array[distname] = np.sqrt(np.array(dist_array[distname]))\n",
    "    # dist_array[distname] = np.sqrt(dist_array[distname])\n",
    "    print(f\"distname = {distname}, length = {len(dist_array[distname])}\")"
   ]
  },
  {
   "cell_type": "code",
   "execution_count": null,
   "metadata": {
    "id": "fnDPPcxzb8y3"
   },
   "outputs": [],
   "source": [
    "np.savez(f\"/content/drive/MyDrive/UKP/mnist_experiments/distances/widthdepth/5000_train_categorized/all_distances_categorized_correctedfinal.npz\", **dist_array)"
   ]
  }
 ],
 "metadata": {
  "colab": {
   "provenance": []
  },
  "kernelspec": {
   "display_name": "Python 3 (ipykernel)",
   "language": "python",
   "name": "python3"
  },
  "language_info": {
   "codemirror_mode": {
    "name": "ipython",
    "version": 3
   },
   "file_extension": ".py",
   "mimetype": "text/x-python",
   "name": "python",
   "nbconvert_exporter": "python",
   "pygments_lexer": "ipython3",
   "version": "3.10.12"
  }
 },
 "nbformat": 4,
 "nbformat_minor": 4
}
